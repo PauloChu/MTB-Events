{
 "cells": [
  {
   "cell_type": "markdown",
   "id": "72908d35",
   "metadata": {},
   "source": [
    "# MTB Events"
   ]
  },
  {
   "cell_type": "markdown",
   "id": "ff856c74",
   "metadata": {},
   "source": [
    "To run this program, your tracking data must be in a .csv file. The .csv file needs four columns: a column labeled \"Trajectory\", \"x\", \"y\". The \"Trajectory\" column will hold the unique integer value assigned to the trajectory. \"x\" and \"y\" are respectively the x and y position of said trajectory.\n",
    "\n",
    "To import the library directy below, please ensure the python file \"mtb_events_func.py\" in the same folder as this file and run the code.\n",
    "\n",
    "This program was developed to determine the type of events that MTB, or magnetotactic bacteria, specifically AMB-1, undergo while swimming by simply using the bacterium's recorded position. By classifying what an event is, either a tumble or a reverse, we can then correlate the probability of said event to the strength of a magnetic field applied."
   ]
  },
  {
   "cell_type": "code",
   "execution_count": null,
   "id": "13e52392",
   "metadata": {},
   "outputs": [],
   "source": [
    "from mtb_events_func import *"
   ]
  },
  {
   "cell_type": "markdown",
   "id": "1e4833bb",
   "metadata": {},
   "source": [
    "## Get Events\n",
    "\n",
    "The most useful function is the \"get_events\" function. The parameters used in this function are as follows:\n",
    "\n",
    "### - filedir\n",
    "a string variable that designates the folder in which your .csv files are stored\n",
    "\n",
    "### - fpra\n",
    "a positive intenger variable, 'frames per rolling average', this variable will take a rolling average of your trajectories. In essence, this will 'smooth' out any imperfections that may be caused by noise.\n",
    "\n",
    "### - frame_threshold_count\n",
    "a positive integer variable where any trajectories with any less updates will be removed from the dataset. Set to 0 if you would like every trajectory to be included, regardless of trajectory length.\n",
    "\n",
    "### - heading_std_threshold \n",
    "a positive float between 0 and 2. The heading, or the direction that the trajectory is facing, is a value between 0 and 1 for x and for y. As the trajectory follows, the fpra variable will dictate over how many frames of the trajectory's heading will be used as the standard deviation. The heading standard deviation is then used as a threshold variable to determine if an event has occured. A heading_std_threshold of 0 will consider almost all movements to be an event, and a heading_std_threshold of 2 will guarantee an event will never be considered. The current ideal operating value is 0.4.\n",
    "\n",
    "### - speed_fraction \n",
    "a positive float between 0 and 1. Similar to the heading_std_threshold, but with speed. When a trajectory's speed goes below the product of this float and the median of the speed of the trajectory, then an event will be considered.\n",
    "\n",
    "### - write\n",
    "a boolean variable. If True, the program will write a .csv file in the folder with results in the filedir.\n",
    "\n",
    "### - debugprints\n",
    "a boolean variable. If True, the program will print results and data for each trajectory in each file.\n"
   ]
  },
  {
   "cell_type": "markdown",
   "id": "cd5c9014",
   "metadata": {},
   "source": [
    "### Output\n",
    "The function, after completing each file, will print that the file has been completed followed by how many tumbles and how many reverses were found in the trajectories. This function also returns a dictionary with the formatting:\n",
    ">tumble_length_history = {filename and trajectory: tumble length in frames}"
   ]
  },
  {
   "cell_type": "markdown",
   "id": "d7880ec4",
   "metadata": {},
   "source": [
    "The function is as written:\n",
    "\n",
    ">**get_events(filedir, fpra, frame_threshold_count, heading_std_threshold = 0.4, speed_fraction = 0.66, write = False, debugprints = False)**\n",
    "\n",
    "Thus, the only mandatory variable are the first three.\n",
    "\n",
    "Below is an example."
   ]
  },
  {
   "cell_type": "code",
   "execution_count": null,
   "id": "465ad20b",
   "metadata": {},
   "outputs": [],
   "source": [
    "tumble_length_history = get_events(\"ExampleDataSets\", 5, 20)"
   ]
  },
  {
   "cell_type": "markdown",
   "id": "a14c1f0d",
   "metadata": {},
   "source": [
    "## Plotting Functions\n",
    "\n",
    "There are two main plotting functions, **plot_event_history** and **show_trajectory**.\n",
    "\n",
    "### plot_event_history\n",
    "This function uses the dictionary from get_events and plots a simple histogram of the lengths of events. The x-axis is in ticks (or frames, synonymously) and the y is the frequency of those events.\n"
   ]
  },
  {
   "cell_type": "code",
   "execution_count": null,
   "id": "9db34730",
   "metadata": {},
   "outputs": [],
   "source": [
    "plot_event_history(tumble_length_history)"
   ]
  },
  {
   "cell_type": "markdown",
   "id": "8b3488cc",
   "metadata": {},
   "source": [
    "### show_trajectory\n",
    "This function will plot the given trajectory from a given file with its data.\n",
    "> **show_trajectory(filename, traj, fpra = 1, heading_std_threshold = 0.4, speed_fraction = 0.66):**"
   ]
  },
  {
   "cell_type": "code",
   "execution_count": null,
   "id": "cbbee4a8",
   "metadata": {},
   "outputs": [],
   "source": [
    "show_trajectory(\"ExampleDataSets/1.csv\", 11, fpra=4)"
   ]
  },
  {
   "cell_type": "code",
   "execution_count": null,
   "id": "ff8957fa",
   "metadata": {},
   "outputs": [],
   "source": []
  }
 ],
 "metadata": {
  "kernelspec": {
   "display_name": "Python 3 (ipykernel)",
   "language": "python",
   "name": "python3"
  },
  "language_info": {
   "codemirror_mode": {
    "name": "ipython",
    "version": 3
   },
   "file_extension": ".py",
   "mimetype": "text/x-python",
   "name": "python",
   "nbconvert_exporter": "python",
   "pygments_lexer": "ipython3",
   "version": "3.8.5"
  }
 },
 "nbformat": 4,
 "nbformat_minor": 5
}
